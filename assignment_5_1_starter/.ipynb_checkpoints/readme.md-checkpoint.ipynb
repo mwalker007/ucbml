{
 "cells": [
  {
   "cell_type": "markdown",
   "id": "0519d223",
   "metadata": {},
   "source": [
    "# Readme.md\n"
   ]
  },
  {
   "cell_type": "markdown",
   "id": "3bc2b77b",
   "metadata": {},
   "source": [
    "# Source dataset description\n",
    "* a collection of responses to coupon offers by drivers under a variety of scenarios\n",
    "* The initial dataset was 12684 rows and 26 columns\n",
    "* After removing columns with sparse data and NaN rows 12079 rows and 25 columns were left\n"
   ]
  },
  {
   "cell_type": "markdown",
   "id": "e1e02640",
   "metadata": {},
   "source": [
    "## When limiting the data to Bar coupons only, the following was observed:\n",
    "* Overall, people accepted the Bar coupon around 41% of the time.\n",
    "* People who go to the bar 4 or more times per month were much more likely to accept the coupons (76% vs. 37%)\n",
    "* For people who went more than once a month, age was not a factor in the acceptance rate."
   ]
  },
  {
   "cell_type": "markdown",
   "id": "e131c6e6",
   "metadata": {},
   "source": [
    "## When limiting the data to Coffee House Coupon only, the following was observed: \n",
    "\n",
    "* Overall, people accepted the Coffee House coupon around 49% of the time.\n",
    "* People who had no urgent place to be, were a student, or had incomes below 75K were more likely to accept the coupon\n",
    "* Sales people who made more than 75K and were headed home were much more unlikely to accept the coupon (39%)\n",
    "* Students who made less than 75K and had no urgent place to be were more likely to accept the coupon (63%)"
   ]
  },
  {
   "cell_type": "markdown",
   "id": "a4fd4e9d",
   "metadata": {},
   "source": [
    "The Jupyter Notebook used to analyze the data can be found at [An Internal Link](/prompt.ipynb)"
   ]
  },
  {
   "cell_type": "code",
   "execution_count": null,
   "id": "a23791d1",
   "metadata": {},
   "outputs": [],
   "source": []
  }
 ],
 "metadata": {
  "kernelspec": {
   "display_name": "Python 3 (ipykernel)",
   "language": "python",
   "name": "python3"
  },
  "language_info": {
   "codemirror_mode": {
    "name": "ipython",
    "version": 3
   },
   "file_extension": ".py",
   "mimetype": "text/x-python",
   "name": "python",
   "nbconvert_exporter": "python",
   "pygments_lexer": "ipython3",
   "version": "3.9.12"
  }
 },
 "nbformat": 4,
 "nbformat_minor": 5
}
